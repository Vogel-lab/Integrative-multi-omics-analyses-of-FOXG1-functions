{
 "cells": [
  {
   "cell_type": "code",
   "execution_count": 7,
   "id": "weighted-african",
   "metadata": {},
   "outputs": [],
   "source": [
    "import pandas as pd\n",
    "import numpy as np\n",
    "import matplotlib.pyplot as plt\n",
    "import seaborn as sns\n",
    "import matplotlib\n",
    "#import matplotlib.cm as cm\n",
    "from matplotlib import colors\n",
    "import matplotlib.colors as mcolors\n",
    "sns.set_style(\"white\")\n",
    "sns.set_context(\"paper\")\n",
    "%matplotlib inline"
   ]
  },
  {
   "cell_type": "code",
   "execution_count": 17,
   "id": "structural-virgin",
   "metadata": {},
   "outputs": [
    {
     "name": "stdout",
     "output_type": "stream",
     "text": [
      "no change     /home/ia1014/anaconda3/condabin/conda\n",
      "no change     /home/ia1014/anaconda3/bin/conda\n",
      "no change     /home/ia1014/anaconda3/bin/conda-env\n",
      "no change     /home/ia1014/anaconda3/bin/activate\n",
      "no change     /home/ia1014/anaconda3/bin/deactivate\n",
      "no change     /home/ia1014/anaconda3/etc/profile.d/conda.sh\n",
      "no change     /home/ia1014/anaconda3/etc/fish/conf.d/conda.fish\n",
      "no change     /home/ia1014/anaconda3/shell/condabin/Conda.psm1\n",
      "no change     /home/ia1014/anaconda3/shell/condabin/conda-hook.ps1\n",
      "no change     /home/ia1014/anaconda3/lib/python3.8/site-packages/xontrib/conda.xsh\n",
      "no change     /home/ia1014/anaconda3/etc/profile.d/conda.csh\n",
      "no change     /home/ia1014/.bashrc\n",
      "No action taken.\n",
      "\n",
      "Note: you may need to restart the kernel to use updated packages.\n"
     ]
    }
   ],
   "source": [
    "conda init bash"
   ]
  },
  {
   "cell_type": "code",
   "execution_count": 5,
   "id": "banned-steam",
   "metadata": {},
   "outputs": [
    {
     "name": "stdout",
     "output_type": "stream",
     "text": [
      "\n",
      "CommandNotFoundError: Your shell has not been properly configured to use 'conda activate'.\n",
      "To initialize your shell, run\n",
      "\n",
      "    $ conda init <SHELL_NAME>\n",
      "\n",
      "Currently supported shells are:\n",
      "  - bash\n",
      "  - fish\n",
      "  - tcsh\n",
      "  - xonsh\n",
      "  - zsh\n",
      "  - powershell\n",
      "\n",
      "See 'conda init --help' for more information and options.\n",
      "\n",
      "IMPORTANT: You may need to close and restart your shell after running 'conda init'.\n",
      "\n",
      "\n",
      "\n",
      "Note: you may need to restart the kernel to use updated packages.\n"
     ]
    }
   ],
   "source": []
  },
  {
   "cell_type": "code",
   "execution_count": 6,
   "id": "respected-diana",
   "metadata": {},
   "outputs": [
    {
     "name": "stdout",
     "output_type": "stream",
     "text": [
      "usage: conda init [-h] [--all] [--reverse] [--json] [-v] [-q] [-d]\n",
      "                  [shells [shells ...]]\n",
      "\n",
      "Initialize conda for shell interaction. [Experimental]\n",
      "\n",
      "Options:\n",
      "\n",
      "positional arguments:\n",
      "  shells         One or more shells to be initialized. If not given, the\n",
      "                 default value is 'bash' on unix and 'cmd.exe' on Windows. Use\n",
      "                 the '--all' flag to initialize all shells. Currently\n",
      "                 compatible shells are {bash, fish, powershell, tcsh, xonsh,\n",
      "                 zsh}\n",
      "\n",
      "optional arguments:\n",
      "  -h, --help     Show this help message and exit.\n",
      "  --all          Initialize all currently available shells.\n",
      "  -d, --dry-run  Only display what would have been done.\n",
      "\n",
      "setup type:\n",
      "  --reverse      Undo past effects of conda init.\n",
      "\n",
      "Output, Prompt, and Flow Control Options:\n",
      "  --json         Report all output as json. Suitable for using conda\n",
      "                 programmatically.\n",
      "  -v, --verbose  Use once for info, twice for debug, three times for trace.\n",
      "  -q, --quiet    Do not display progress bar.\n",
      "\n",
      "Key parts of conda's functionality require that it interact directly with the shell\n",
      "within which conda is being invoked. The `conda activate` and `conda deactivate` commands\n",
      "specifically are shell-level commands. That is, they affect the state (e.g. environment\n",
      "variables) of the shell context being interacted with. Other core commands, like\n",
      "`conda create` and `conda install`, also necessarily interact with the shell environment.\n",
      "They're therefore implemented in ways specific to each shell. Each shell must be configured\n",
      "to make use of them.\n",
      "\n",
      "This command makes changes to your system that are specific and customized for each shell.\n",
      "To see the specific files and locations on your system that will be affected before, use the\n",
      "'--dry-run' flag.  To see the exact changes that are being or will be made to each location,\n",
      "use the '--verbose' flag.\n",
      "\n",
      "IMPORTANT: After running `conda init`, most shells will need to be closed and restarted\n",
      "           for changes to take effect.\n",
      "\n",
      "Note: you may need to restart the kernel to use updated packages.\n"
     ]
    }
   ],
   "source": [
    "conda init --help"
   ]
  }
 ],
 "metadata": {
  "kernelspec": {
   "display_name": "Python 3",
   "language": "python",
   "name": "python3"
  },
  "language_info": {
   "codemirror_mode": {
    "name": "ipython",
    "version": 3
   },
   "file_extension": ".py",
   "mimetype": "text/x-python",
   "name": "python",
   "nbconvert_exporter": "python",
   "pygments_lexer": "ipython3",
   "version": "3.8.8"
  }
 },
 "nbformat": 4,
 "nbformat_minor": 5
}
